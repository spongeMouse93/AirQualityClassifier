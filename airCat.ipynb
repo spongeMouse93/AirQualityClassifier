{
 "cells": [
  {
   "cell_type": "code",
   "execution_count": 1,
   "id": "c5b7f90f-24c8-4903-b7d3-19127bf92e4e",
   "metadata": {},
   "outputs": [],
   "source": [
    "import pandas as pd, seaborn as sns, warnings\n",
    "from catboost import CatBoostClassifier\n",
    "from matplotlib import pyplot as plt\n",
    "from sklearn.metrics import accuracy_score, classification_report, confusion_matrix\n",
    "from sklearn.model_selection import train_test_split\n",
    "\n",
    "warnings.filterwarnings('ignore')"
   ]
  },
  {
   "cell_type": "code",
   "execution_count": 2,
   "id": "fc775ea3-faaa-452d-bec5-3fbb29db87f7",
   "metadata": {},
   "outputs": [],
   "source": [
    "sns.set(style = 'whitegrid')\n",
    "plt.rc('figure', autolayout = True)\n",
    "plt.rc('axes', labelweight = 'bold', labelsize = 'large', titleweight = 'bold', titlesize = 18, titlepad = 10)\n",
    "plt.rc('animation', html = 'html5')"
   ]
  },
  {
   "cell_type": "code",
   "execution_count": 3,
   "id": "c8c2fb19-ffbb-48ca-a94b-d592e769c45f",
   "metadata": {},
   "outputs": [],
   "source": [
    "def classify_health_impact(score):\n",
    "    if score >= 80:\n",
    "        return 0  \n",
    "    elif score >= 60:\n",
    "        return 1  \n",
    "    elif score >= 40:\n",
    "        return 2  \n",
    "    elif score >= 20:\n",
    "        return 3  \n",
    "    else:\n",
    "        return 4  "
   ]
  },
  {
   "cell_type": "code",
   "execution_count": 4,
   "id": "bbb202de-7318-4228-a9a1-ff33a2162886",
   "metadata": {},
   "outputs": [],
   "source": [
    "air = pd.read_csv('air_quality_health_impact_data.csv')\n",
    "air_cleaned = air.drop(columns = ['RecordID'])\n",
    "for col in ['AQI', 'PM10', 'PM2_5', 'NO2', 'SO2', 'O3']:\n",
    "    Q1 = air_cleaned[col].quantile(0.25)\n",
    "    Q3 = air_cleaned[col].quantile(0.75)\n",
    "    IQR = Q3 - Q1\n",
    "    lower_bound = Q1 - 1.5 * IQR\n",
    "    upper_bound = Q3 + 1.5 * IQR\n",
    "    air_cleaned[col] = air_cleaned[col].apply(lambda x: min(max(x, lower_bound), upper_bound))\n",
    "air_cleaned['HealthImpactClass'] = air_cleaned['HealthImpactScore'].apply(classify_health_impact)"
   ]
  },
  {
   "cell_type": "code",
   "execution_count": 5,
   "id": "27e195f0-a487-4080-8bc1-bed082b35f94",
   "metadata": {},
   "outputs": [],
   "source": [
    "y = air_cleaned['HealthImpactClass']\n",
    "x = air_cleaned.drop(['HealthImpactClass', 'HealthImpactScore'], axis = 1)\n",
    "xtrain, xtest, ytrain, ytest = train_test_split(x, y, test_size = 0.3, random_state = 52)"
   ]
  },
  {
   "cell_type": "code",
   "execution_count": 6,
   "id": "ca06cbce-cf82-4f82-917d-8a4f80fb841b",
   "metadata": {},
   "outputs": [
    {
     "name": "stdout",
     "output_type": "stream",
     "text": [
      "0:\tlearn: 1.1699780\ttotal: 181ms\tremaining: 17.9s\n",
      "10:\tlearn: 0.4661624\ttotal: 350ms\tremaining: 2.83s\n",
      "20:\tlearn: 0.2794404\ttotal: 543ms\tremaining: 2.04s\n",
      "30:\tlearn: 0.1953872\ttotal: 744ms\tremaining: 1.66s\n",
      "40:\tlearn: 0.1526488\ttotal: 946ms\tremaining: 1.36s\n",
      "50:\tlearn: 0.1299923\ttotal: 1.21s\tremaining: 1.16s\n",
      "60:\tlearn: 0.1156072\ttotal: 1.43s\tremaining: 913ms\n",
      "70:\tlearn: 0.1026166\ttotal: 1.64s\tremaining: 670ms\n",
      "80:\tlearn: 0.0936096\ttotal: 1.84s\tremaining: 431ms\n",
      "90:\tlearn: 0.0872222\ttotal: 2.04s\tremaining: 201ms\n",
      "99:\tlearn: 0.0809185\ttotal: 2.2s\tremaining: 0us\n"
     ]
    },
    {
     "data": {
      "text/plain": [
       "<catboost.core.CatBoostClassifier at 0x25a27b97940>"
      ]
     },
     "execution_count": 6,
     "metadata": {},
     "output_type": "execute_result"
    }
   ],
   "source": [
    "cat = CatBoostClassifier(iterations = 100, learning_rate = 0.1, depth = 6, loss_function = 'MultiClass', verbose = 10)\n",
    "cat.fit(xtrain, ytrain)"
   ]
  },
  {
   "cell_type": "code",
   "execution_count": 8,
   "id": "f76f8629-2434-421a-aed9-a49111002510",
   "metadata": {},
   "outputs": [
    {
     "data": {
      "image/png": "[encoded data removed]",
      "text/plain": [
       "<Figure size 720x504 with 2 Axes>"
      ]
     },
     "metadata": {
      "needs_background": "light"
     },
     "output_type": "display_data"
    }
   ],
   "source": [
    "ypred = cat.predict(xtest)\n",
    "plt.figure(figsize = (10, 7))\n",
    "class_labels = ['Very High', 'High', 'Moderate', 'Low', 'Very Low']\n",
    "sns.heatmap(confusion_matrix(ytest, ypred, labels = [0, 1, 2, 3, 4]), annot = True, cmap = 'gnuplot', fmt = 'd', xticklabels = class_labels, yticklabels = class_labels)\n",
    "plt.xlabel('Predicted')\n",
    "plt.ylabel('Actual')\n",
    "plt.title('Confusion Matrix')\n",
    "plt.show()"
   ]
  },
  {
   "cell_type": "code",
   "execution_count": 9,
   "id": "1d370620-c657-49f7-8928-16e16b3999ef",
   "metadata": {},
   "outputs": [
    {
     "name": "stdout",
     "output_type": "stream",
     "text": [
      "Accuracy: 0.95\n",
      "\n",
      "\n",
      "              precision    recall  f1-score   support\n",
      "\n",
      "           0       0.98      0.99      0.98      1499\n",
      "           1       0.78      0.76      0.77       168\n",
      "           2       0.82      0.75      0.78        68\n",
      "           3       1.00      0.11      0.20         9\n",
      "\n",
      "    accuracy                           0.95      1744\n",
      "   macro avg       0.89      0.65      0.68      1744\n",
      "weighted avg       0.95      0.95      0.95      1744\n",
      "\n"
     ]
    }
   ],
   "source": [
    "print(f\"Accuracy: {accuracy_score(ytest, ypred):.2f}\")\n",
    "print(\"\\n\")\n",
    "print(classification_report(ytest, ypred))"
   ]
  }
 ],
 "metadata": {
  "kernelspec": {
   "display_name": "Python 3 (ipykernel)",
   "language": "python",
   "name": "python3"
  },
  "language_info": {
   "codemirror_mode": {
    "name": "ipython",
    "version": 3
   },
   "file_extension": ".py",
   "mimetype": "text/x-python",
   "name": "python",
   "nbconvert_exporter": "python",
   "pygments_lexer": "ipython3",
   "version": "3.9.7"
  }
 },
 "nbformat": 4,
 "nbformat_minor": 5
}
