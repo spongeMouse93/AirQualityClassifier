{
 "cells": [
  {
   "cell_type": "code",
   "execution_count": 3,
   "id": "e97b80d3-d4a6-4279-adb5-d06966e5e6e6",
   "metadata": {},
   "outputs": [],
   "source": [
    "import pandas as pd, seaborn as sns, torch, warnings\n",
    "from matplotlib import pyplot as plt\n",
    "from sklearn.metrics import accuracy_score, classification_report, confusion_matrix\n",
    "from sklearn.model_selection import train_test_split\n",
    "from sklearn.preprocessing import StandardScaler\n",
    "from torch import nn as nn, optim as optim\n",
    "from torch.nn import functional as F\n",
    "from torch.utils.data import DataLoader, random_split, TensorDataset\n",
    "\n",
    "warnings.filterwarnings('ignore')"
   ]
  },
  {
   "cell_type": "code",
   "execution_count": 4,
   "id": "7e424bd9-7c1a-4ddd-b97d-631511077525",
   "metadata": {},
   "outputs": [],
   "source": [
    "sns.set(style = 'whitegrid')\n",
    "plt.rc('figure', autolayout = True)\n",
    "plt.rc('axes', labelweight = 'bold', labelsize = 'large', titleweight = 'bold', titlesize = 18, titlepad = 10)\n",
    "plt.rc('animation', html = 'html5')"
   ]
  },
  {
   "cell_type": "code",
   "execution_count": 5,
   "id": "92ad5c11-6d74-49e0-aa77-dae5b2e31619",
   "metadata": {},
   "outputs": [],
   "source": [
    "def classify_health_impact(score):\n",
    "    if score >= 80:\n",
    "        return 0  \n",
    "    elif score >= 60:\n",
    "        return 1  \n",
    "    elif score >= 40:\n",
    "        return 2  \n",
    "    elif score >= 20:\n",
    "        return 3  \n",
    "    else:\n",
    "        return 4  "
   ]
  },
  {
   "cell_type": "code",
   "execution_count": 6,
   "id": "bca9e702-a1cb-4827-9f48-2d71f3eaa24d",
   "metadata": {},
   "outputs": [],
   "source": [
    "air = pd.read_csv('air_quality_health_impact_data.csv')\n",
    "air_cleaned = air.drop(columns = ['RecordID'])\n",
    "for col in ['AQI', 'PM10', 'PM2_5', 'NO2', 'SO2', 'O3']:\n",
    "    Q1 = air_cleaned[col].quantile(0.25)\n",
    "    Q3 = air_cleaned[col].quantile(0.75)\n",
    "    IQR = Q3 - Q1\n",
    "    lower_bound = Q1 - 1.5 * IQR\n",
    "    upper_bound = Q3 + 1.5 * IQR\n",
    "    air_cleaned[col] = air_cleaned[col].apply(lambda x: min(max(x, lower_bound), upper_bound))\n",
    "air_cleaned['HealthImpactClass'] = air_cleaned['HealthImpactScore'].apply(classify_health_impact)"
   ]
  },
  {
   "cell_type": "code",
   "execution_count": 7,
   "id": "0ff6c4f1-f588-4b27-8b0e-a9a79d406916",
   "metadata": {},
   "outputs": [],
   "source": [
    "y = air_cleaned['HealthImpactClass']\n",
    "x = air_cleaned.drop(['HealthImpactClass', 'HealthImpactScore'], axis = 1)\n",
    "scaler = StandardScaler()\n",
    "x = scaler.fit_transform(x)\n",
    "xtrain, xtest, ytrain, ytest = train_test_split(x, y, test_size = 0.3, random_state = 52)"
   ]
  },
  {
   "cell_type": "code",
   "execution_count": 8,
   "id": "1d8d7255-24ab-4251-a76e-dc26ec424abd",
   "metadata": {},
   "outputs": [],
   "source": [
    "xtensor = torch.tensor(x, dtype = torch.float32)\n",
    "ytensor = torch.tensor(y, dtype = torch.long)\n",
    "dataset = TensorDataset(xtensor, ytensor)\n",
    "train_size = int(0.7 * len(dataset))\n",
    "test_size = len(dataset) - train_size\n",
    "train_dataset, test_dataset = random_split(dataset, [train_size, test_size])"
   ]
  },
  {
   "cell_type": "code",
   "execution_count": 9,
   "id": "dcb39de2-3dfe-4918-bfb0-0680c7362bdf",
   "metadata": {},
   "outputs": [],
   "source": [
    "train_loader = DataLoader(train_dataset, batch_size = 32, shuffle = True)\n",
    "test_loader = DataLoader(test_dataset, batch_size = 32)"
   ]
  },
  {
   "cell_type": "code",
   "execution_count": 10,
   "id": "4d6fc938-1f55-4937-a014-e311f3f5d326",
   "metadata": {},
   "outputs": [],
   "source": [
    "class HealthImpactClassifier1(nn.Module):\n",
    "    def __init__(self, input_size, hidden_size, num_classes):\n",
    "        super(HealthImpactClassifier1, self).__init__()\n",
    "        self.fc1 = nn.Linear(input_size, hidden_size)\n",
    "        self.fc2 = nn.Linear(hidden_size, hidden_size)\n",
    "        self.fc3 = nn.Linear(hidden_size, num_classes)\n",
    "    \n",
    "    def forward(self, x):\n",
    "        x = F.relu(self.fc1(x))\n",
    "        x = F.relu(self.fc2(x))\n",
    "        x = self.fc3(x) \n",
    "        return x"
   ]
  },
  {
   "cell_type": "code",
   "execution_count": 11,
   "id": "ebd9f7ef-00de-4463-9020-8c2f3443f3f2",
   "metadata": {},
   "outputs": [],
   "source": [
    "model1 = HealthImpactClassifier1(x.shape[1], 64, 5)\n",
    "criterion = nn.CrossEntropyLoss()\n",
    "optimizer = optim.Adam(model1.parameters(), lr = 0.001)"
   ]
  },
  {
   "cell_type": "code",
   "execution_count": 12,
   "id": "4c0b60c5-416f-4636-bafb-9fb7bc09f6ea",
   "metadata": {},
   "outputs": [
    {
     "name": "stdout",
     "output_type": "stream",
     "text": [
      "Epoch [1/20], Loss: 0.6151\n",
      "Epoch [2/20], Loss: 0.2836\n",
      "Epoch [3/20], Loss: 0.2109\n",
      "Epoch [4/20], Loss: 0.1721\n",
      "Epoch [5/20], Loss: 0.1478\n",
      "Epoch [6/20], Loss: 0.1316\n",
      "Epoch [7/20], Loss: 0.1191\n",
      "Epoch [8/20], Loss: 0.1066\n",
      "Epoch [9/20], Loss: 0.0989\n",
      "Epoch [10/20], Loss: 0.0888\n",
      "Epoch [11/20], Loss: 0.0807\n",
      "Epoch [12/20], Loss: 0.0733\n",
      "Epoch [13/20], Loss: 0.0673\n",
      "Epoch [14/20], Loss: 0.0597\n",
      "Epoch [15/20], Loss: 0.0560\n",
      "Epoch [16/20], Loss: 0.0502\n",
      "Epoch [17/20], Loss: 0.0445\n",
      "Epoch [18/20], Loss: 0.0428\n",
      "Epoch [19/20], Loss: 0.0385\n",
      "Epoch [20/20], Loss: 0.0350\n"
     ]
    }
   ],
   "source": [
    "for epoch in range(20):\n",
    "    model1.train()\n",
    "    running_loss = 0.0\n",
    "    for xbatch, ybatch in train_loader:\n",
    "        outputs = model1(xbatch)\n",
    "        loss = criterion(outputs, ybatch)\n",
    "        optimizer.zero_grad()\n",
    "        loss.backward()\n",
    "        optimizer.step()\n",
    "        running_loss += loss.item()\n",
    "    print(f\"Epoch [{epoch+1}/20], Loss: {running_loss / len(train_loader):.4f}\")"
   ]
  },
  {
   "cell_type": "code",
   "execution_count": 13,
   "id": "4dee1723-5a1f-407f-9e9d-48ecad0c8ca4",
   "metadata": {},
   "outputs": [
    {
     "name": "stdout",
     "output_type": "stream",
     "text": [
      "Accuracy: 97.08%\n",
      "Classification Report:\n",
      "               precision    recall  f1-score   support\n",
      "\n",
      "           0       0.99      0.99      0.99      1508\n",
      "           1       0.84      0.89      0.87       157\n",
      "           2       0.87      0.79      0.83        68\n",
      "           3       0.64      0.64      0.64        11\n",
      "\n",
      "    accuracy                           0.97      1744\n",
      "   macro avg       0.84      0.83      0.83      1744\n",
      "weighted avg       0.97      0.97      0.97      1744\n",
      "\n"
     ]
    }
   ],
   "source": [
    "model1.eval()\n",
    "ytrue = []\n",
    "ypred = []\n",
    "with torch.no_grad():\n",
    "    for xbatch, ybatch in test_loader:\n",
    "        outputs = model1(xbatch)\n",
    "        _, predicted = torch.max(outputs, 1)\n",
    "        ytrue.extend(ybatch.tolist())\n",
    "        ypred.extend(predicted.tolist())\n",
    "accuracy = accuracy_score(ytrue, ypred)\n",
    "report = classification_report(ytrue, ypred)\n",
    "print(f\"Accuracy: {accuracy * 100:.2f}%\")\n",
    "print(\"Classification Report:\\n\", report)"
   ]
  },
  {
   "cell_type": "code",
   "execution_count": 14,
   "id": "6d42e764-ffea-4e5b-b725-0cb0717a6ef3",
   "metadata": {},
   "outputs": [
    {
     "data": {
      "image/png": "[encoded data removed]",
      "text/plain": [
       "<Figure size 720x504 with 2 Axes>"
      ]
     },
     "metadata": {
      "needs_background": "light"
     },
     "output_type": "display_data"
    }
   ],
   "source": [
    "plt.figure(figsize = (10, 7))\n",
    "class_labels = ['Very High', 'High', 'Moderate', 'Low', 'Very Low']\n",
    "sns.heatmap(confusion_matrix(ytest, ypred, labels = [0, 1, 2, 3, 4]), annot = True, cmap = 'terrain', fmt = 'd', xticklabels = class_labels, yticklabels = class_labels)\n",
    "plt.xlabel('Predicted')\n",
    "plt.ylabel('Actual')\n",
    "plt.title('Confusion Matrix')\n",
    "plt.show()"
   ]
  },
  {
   "cell_type": "code",
   "execution_count": 15,
   "id": "0da47df3-1944-4123-8a15-361bc5c06fe1",
   "metadata": {},
   "outputs": [],
   "source": [
    "model2 = nn.Sequential(\n",
    "    nn.Linear(x.shape[1], 64),\n",
    "    nn.ReLU(),\n",
    "    nn.Linear(64, 64),\n",
    "    nn.ReLU(),\n",
    "    nn.Linear(64, 5)\n",
    ")\n",
    "optimizer = optim.Adam(model2.parameters(), lr = 0.001)"
   ]
  },
  {
   "cell_type": "code",
   "execution_count": 16,
   "id": "4ca0799b-9a3a-4666-beb1-595b28f3027b",
   "metadata": {},
   "outputs": [
    {
     "name": "stdout",
     "output_type": "stream",
     "text": [
      "Epoch [1/20], Loss: 0.6132\n",
      "Epoch [2/20], Loss: 0.2636\n",
      "Epoch [3/20], Loss: 0.1969\n",
      "Epoch [4/20], Loss: 0.1622\n",
      "Epoch [5/20], Loss: 0.1377\n",
      "Epoch [6/20], Loss: 0.1249\n",
      "Epoch [7/20], Loss: 0.1074\n",
      "Epoch [8/20], Loss: 0.0948\n",
      "Epoch [9/20], Loss: 0.0836\n",
      "Epoch [10/20], Loss: 0.0759\n",
      "Epoch [11/20], Loss: 0.0734\n",
      "Epoch [12/20], Loss: 0.0686\n",
      "Epoch [13/20], Loss: 0.0589\n",
      "Epoch [14/20], Loss: 0.0518\n",
      "Epoch [15/20], Loss: 0.0481\n",
      "Epoch [16/20], Loss: 0.0440\n",
      "Epoch [17/20], Loss: 0.0399\n",
      "Epoch [18/20], Loss: 0.0368\n",
      "Epoch [19/20], Loss: 0.0339\n",
      "Epoch [20/20], Loss: 0.0302\n"
     ]
    }
   ],
   "source": [
    "for epoch in range(20):\n",
    "    model2.train()\n",
    "    running_loss = 0.0\n",
    "    for xbatch, ybatch in train_loader:\n",
    "        outputs = model2(xbatch)\n",
    "        loss = criterion(outputs, ybatch)\n",
    "        optimizer.zero_grad()\n",
    "        loss.backward()\n",
    "        optimizer.step()\n",
    "        running_loss += loss.item()\n",
    "    print(f\"Epoch [{epoch+1}/20], Loss: {running_loss / len(train_loader):.4f}\")"
   ]
  },
  {
   "cell_type": "code",
   "execution_count": 17,
   "id": "b556875e-ed9a-4984-826d-ee26db176aa1",
   "metadata": {},
   "outputs": [
    {
     "name": "stdout",
     "output_type": "stream",
     "text": [
      "Accuracy: 97.76%\n",
      "Classification Report:\n",
      "               precision    recall  f1-score   support\n",
      "\n",
      "           0       1.00      0.99      0.99      1508\n",
      "           1       0.87      0.94      0.90       157\n",
      "           2       0.83      0.87      0.85        68\n",
      "           3       1.00      0.36      0.53        11\n",
      "\n",
      "    accuracy                           0.98      1744\n",
      "   macro avg       0.92      0.79      0.82      1744\n",
      "weighted avg       0.98      0.98      0.98      1744\n",
      "\n"
     ]
    }
   ],
   "source": [
    "model2.eval()\n",
    "ytrue = []\n",
    "ypred = []\n",
    "with torch.no_grad():\n",
    "    for xbatch, ybatch in test_loader:\n",
    "        outputs = model2(xbatch)\n",
    "        _, predicted = torch.max(outputs, 1)\n",
    "        ytrue.extend(ybatch.tolist())\n",
    "        ypred.extend(predicted.tolist())\n",
    "accuracy = accuracy_score(ytrue, ypred)\n",
    "report = classification_report(ytrue, ypred)\n",
    "print(f\"Accuracy: {accuracy * 100:.2f}%\")\n",
    "print(\"Classification Report:\\n\", report)"
   ]
  },
  {
   "cell_type": "code",
   "execution_count": 18,
   "id": "e9a77f50-f2c8-4460-a93b-f2ee9502d3e8",
   "metadata": {},
   "outputs": [
    {
     "data": {
      "image/png": "[encoded data removed]",
      "text/plain": [
       "<Figure size 720x504 with 2 Axes>"
      ]
     },
     "metadata": {
      "needs_background": "light"
     },
     "output_type": "display_data"
    }
   ],
   "source": [
    "plt.figure(figsize = (10, 7))\n",
    "class_labels = ['Very High', 'High', 'Moderate', 'Low', 'Very Low']\n",
    "sns.heatmap(confusion_matrix(ytest, ypred, labels = [0, 1, 2, 3, 4]), annot = True, cmap = 'cubehelix', fmt = 'd', xticklabels = class_labels, yticklabels = class_labels)\n",
    "plt.xlabel('Predicted')\n",
    "plt.ylabel('Actual')\n",
    "plt.title('Confusion Matrix')\n",
    "plt.show()"
   ]
  }
 ],
 "metadata": {
  "kernelspec": {
   "display_name": "Python 3 (ipykernel)",
   "language": "python",
   "name": "python3"
  },
  "language_info": {
   "codemirror_mode": {
    "name": "ipython",
    "version": 3
   },
   "file_extension": ".py",
   "mimetype": "text/x-python",
   "name": "python",
   "nbconvert_exporter": "python",
   "pygments_lexer": "ipython3",
   "version": "3.9.7"
  }
 },
 "nbformat": 4,
 "nbformat_minor": 5
}
